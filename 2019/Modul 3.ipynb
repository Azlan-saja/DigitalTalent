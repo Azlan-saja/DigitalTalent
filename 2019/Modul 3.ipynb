{
 "cells": [
  {
   "cell_type": "markdown",
   "metadata": {},
   "source": [
    "### LAB 3.1 : ANGKA TERBESAR"
   ]
  },
  {
   "cell_type": "code",
   "execution_count": null,
   "metadata": {},
   "outputs": [],
   "source": [
    "# read two numbers\n",
    "number1 = int(input(\"Enter the first number: \"))\n",
    "number2 = int(input(\"Enter the second number: \"))\n",
    "number3 = int(input(\"Enter the third number: \"))\n",
    "\n",
    "largerNumber=number1;\n",
    "# choose the larger number\n",
    "if number2 > largerNumber: largerNumber = number2\n",
    "if number3 > largerNumber: largerNumber = number3\n",
    "\n",
    "# print the result\n",
    "print(\"The larger number is:\", largerNumber)"
   ]
  },
  {
   "cell_type": "markdown",
   "metadata": {},
   "source": [
    "LAB 3.1.1"
   ]
  },
  {
   "cell_type": "code",
   "execution_count": null,
   "metadata": {},
   "outputs": [],
   "source": [
    "word=input(\"Masukkan teks: \")\n",
    "\n",
    "if word==\"Spathiphyllum\": print(\"Yes - Spathiphyllum is the best plant ever!\")\n",
    "elif word==\"spathiphyllum\": print(\"No, I want a big Spathiphyllum!\")\n",
    "else: print(\"Spathiphyllum! Not \", word,\"!\")"
   ]
  },
  {
   "cell_type": "markdown",
   "metadata": {},
   "source": [
    "### Pajak"
   ]
  },
  {
   "cell_type": "code",
   "execution_count": null,
   "metadata": {},
   "outputs": [],
   "source": [
    "income = float(input(\"Enter the annual income: \"))\n",
    "\n",
    "#\n",
    "# Put your code here.\n",
    "#\n",
    "if income<=85528: tax=0.18*(income-556.2)\n",
    "else: tax=14839.2 + 0.32*(income-85528)\n",
    "\n",
    "tax = round(tax, 0)\n",
    "print(\"The tax is:\", tax, \"thalers\")"
   ]
  },
  {
   "cell_type": "markdown",
   "metadata": {},
   "source": [
    "### Gregorian calender"
   ]
  },
  {
   "cell_type": "code",
   "execution_count": null,
   "metadata": {},
   "outputs": [],
   "source": [
    "year = int(input(\"Enter a year: \"))\n",
    "\n",
    "if (year>=1582):\n",
    "    if(year%4)!=0: print(\"Common year\")\n",
    "    elif (year%100)!=0: print(\"Leap year\")\n",
    "    elif (year%400)!=0: print(\"Common year\")\n",
    "    else: print(\"Leap year\")\n",
    "else: print(\"Not within Gregorian Calender\")"
   ]
  },
  {
   "cell_type": "markdown",
   "metadata": {},
   "source": [
    "### While looping"
   ]
  },
  {
   "cell_type": "code",
   "execution_count": null,
   "metadata": {},
   "outputs": [],
   "source": [
    "# we will store the current largest number here\n",
    "largestNumber = -999999999\n",
    "\n",
    "# input the first value\n",
    "number = int(input(\"Enter a number or type -1 to stop: \"))\n",
    "\n",
    "# if the number is not equal to -1, we will continue\n",
    "while number != -1:\n",
    "    # is number larger than largestNumber?\n",
    "    if number > largestNumber:\n",
    "        # yes, update largestNumber\n",
    "        largestNumber = number\n",
    "    # input the next number\n",
    "    number = int(input(\"Enter a number or type -1 to stop: \"))\n",
    "\n",
    "# print the largest number\n",
    "print(\"The largest number is:\", largestNumber)"
   ]
  },
  {
   "cell_type": "markdown",
   "metadata": {},
   "source": [
    "### LAB Scenario\n",
    "\n",
    "A junior magician has picked a secret number. He has hidden it in a variable named secretNumber. He wants everyone who run his program to play the Guess the secret number game, and guess what number he has picked for them. Those who don't guess the number will be stuck in an endless loop forever! Unfortunately, he does not know how to complete the code.\n",
    "\n",
    "Your task is to help the magician complete the code in the editor in such a way so that the code:\n",
    "\n",
    "    * will ask the user to enter an integer number;\n",
    "    * will use a while loop;\n",
    "    * will check whether the number entered by the user is the same as the number picked by the magician. \n",
    "    * If the number chosen by the user is different than the magician's secret number, \n",
    "    the user should see the message \"Ha ha! You're stuck in my loop!\" and be prompted to enter a number again. \n",
    "    If the number entered by the user matches the number picked by the magician, \n",
    "    the number should be printed to the screen, and the magician should say \n",
    "    the following words: \"Well done, muggle! You are free now.\"\n",
    "\n",
    "The magician is counting on you! Don't disappoint him."
   ]
  },
  {
   "cell_type": "code",
   "execution_count": null,
   "metadata": {},
   "outputs": [],
   "source": [
    "secretNumber = 777\n",
    "\n",
    "print(\n",
    "\"\"\"\n",
    "+================================+\n",
    "| Welcome to my game, muggle!    |\n",
    "| Enter an integer number        |\n",
    "| and guess what number I've     |\n",
    "| picked for you.                |\n",
    "| So, what is the secret number? |\n",
    "+================================+\n",
    "\"\"\")\n",
    "\n",
    "n=int(input(\"Masukkan angka tebakan anda: \"))\n",
    "while n!=secretNumber:\n",
    "    print(\"Ha ha! You're stuck in my loop!\")\n",
    "    n=int(input(\"Masukkan angka tebakan anda: \"))\n",
    "print(\"Well done, muggle! You are free now.\")"
   ]
  },
  {
   "cell_type": "markdown",
   "metadata": {},
   "source": [
    "### LAB Scenario\n",
    "\n",
    "Do you know what Mississippi is? Well, it's the name of one of the states and rivers in the United States. The Mississippi River is about 2,340 miles long, which makes it the second longest river in the United States (the longest being the Missouri River). It's so long that a single drop of water needs 90 days to travel its entire length!\n",
    "\n",
    "The word Mississippi is also used for a slightly different purpose: to count mississippily.\n",
    "\n",
    "If you're not familiar with the phrase, we're here to explain to you what it means: it's used to count seconds.\n",
    "\n",
    "The idea behind it is that adding the word Mississippi to a number when counting seconds aloud makes them sound closer to clock-time, and therefore \"one Mississippi, two Mississippi, three Mississippi\" will take approximately an actual three seconds of time! It's often used by children playing hide-and-seek to make sure the seeker does an honest count.\n",
    "\n",
    "Your task is very simple here: write a program that uses a for loop to \"count mississippily\" to five. Having counted to five, the program should print to the screen the final message \"Ready or not, here I come!\"\n",
    "\n",
    "Use the skeleton we've provided in the editor."
   ]
  },
  {
   "cell_type": "code",
   "execution_count": null,
   "metadata": {},
   "outputs": [],
   "source": [
    "import time\n",
    "\n",
    "# Write a for loop that counts to five.\n",
    "    # Body of the loop - print the loop iteration number and the word \"Mississippi\".\n",
    "    # Body of the loop - use: time.sleep(1)\n",
    "\n",
    "for i in range(5):\n",
    "    print(i+1,\"Mississippi\")\n",
    "    time.sleep(1)\n",
    "\n",
    "print(\"Ready or not, here I come!\")\n",
    "\n",
    "# Write a print function with the final message."
   ]
  },
  {
   "cell_type": "markdown",
   "metadata": {},
   "source": [
    "### LAB Scenario using Break\n",
    "\n",
    "The break statement is used to exit/terminate a loop.\n",
    "\n",
    "Design a program that uses a while loop and continuously asks the user to enter a word unless the user enters \"chupacabra\" as the secret exit word, in which case the message \"You've successfully left the loop.\" should be printed to the screen, and the loop should terminate.\n",
    "\n",
    "Don't print any of the words entered by the user. Use the concept of conditional execution and the break statement."
   ]
  },
  {
   "cell_type": "code",
   "execution_count": null,
   "metadata": {},
   "outputs": [],
   "source": [
    "word=input(\"Say your word: \")\n",
    "\n",
    "while word!=\"chupacabra\": \n",
    "    word=input(\"Say your word: \")\n",
    "    if word==\"chupacabra\": break\n",
    "\n",
    "print(\"You've successfully left the loop\")"
   ]
  },
  {
   "cell_type": "markdown",
   "metadata": {},
   "source": [
    "### LAB Scenario using Break\n",
    "\n",
    "The continue statement is used to skip the current block and move ahead to the next iteration, without executing the statements inside the loop.\n",
    "\n",
    "It can be used with both the while and for loops.\n",
    "\n",
    "Your task here is very special: you must design a vowel eater! Write a program that uses:\n",
    "\n",
    "    a for loop;\n",
    "    the concept of conditional execution (if-elif-else)\n",
    "    the continue statement.\n",
    "\n",
    "Your program must:\n",
    "\n",
    "    ask the user to enter a word;\n",
    "    use userWord = userWord.upper() to convert the word entered by the user to upper case; we'll talk about the so-called string methods and the upper() method very soon - don't worry;\n",
    "    use conditional execution and the continue statement to \"eat\" the following vowels A, E, I, O, U from the inputted word;\n",
    "    print the uneaten letters to the screen, each one of them on a separate line.\n",
    "\n",
    "Test your program with the data we've provided for you."
   ]
  },
  {
   "cell_type": "code",
   "execution_count": null,
   "metadata": {},
   "outputs": [],
   "source": [
    "# Prompt the user to enter a word\n",
    "# and assign it to the userWord variable.\n",
    "userWord=input(\"Write your word: \")\n",
    "userWord=userWord.upper()\n",
    "\n",
    "for letter in userWord:\n",
    "    # Complete the body of the for loop.\n",
    "    if letter==\"A\": continue\n",
    "    elif letter==\"I\": continue\n",
    "    elif letter==\"U\": continue\n",
    "    elif letter==\"E\": continue\n",
    "    elif letter==\"O\": continue\n",
    "    else: print(letter, end=\"\")\n"
   ]
  },
  {
   "cell_type": "code",
   "execution_count": null,
   "metadata": {},
   "outputs": [],
   "source": [
    "wordWithoutVovels = \"\"\n",
    "\n",
    "userWord=input(\"Write your word: \")\n",
    "userWord=userWord.upper()\n",
    "\n",
    "for letter in userWord:\n",
    "    # Complete the body of the for loop.\n",
    "    if letter==\"A\": continue\n",
    "    elif letter==\"I\": continue\n",
    "    elif letter==\"U\": continue\n",
    "    elif letter==\"E\": continue\n",
    "    elif letter==\"O\": continue\n",
    "    else: wordWithoutVovels+=letter\n",
    "\n",
    "print(wordWithoutVovels)"
   ]
  },
  {
   "cell_type": "markdown",
   "metadata": {},
   "source": [
    "### LAB Scenario \n",
    "Listen to this story: a boy and his father, a computer programmer, are playing with wooden blocks. They are building a pyramid.\n",
    "\n",
    "Their pyramid is a bit weird, as it is actually a pyramid-shaped wall - it's flat. The pyramid is stacked according to one simple principle: each lower layer contains one block more than the layer above.\n",
    "\n",
    "The figure illustrates the rule used by the builders:\n",
    "\n",
    "\n",
    "Your task is to write a program which reads the number of blocks the builders have, and outputs the height of the pyramid that can be built using these blocks.\n",
    "\n",
    "Note: the height is measured by the number of fully completed layers - if the builders don't have a sufficient number of blocks and cannot complete the next layer, they finish their work immediately.\n",
    "\n",
    "Test your code using the data we've provided."
   ]
  },
  {
   "cell_type": "code",
   "execution_count": null,
   "metadata": {},
   "outputs": [],
   "source": []
  },
  {
   "cell_type": "code",
   "execution_count": null,
   "metadata": {},
   "outputs": [],
   "source": [
    "blocks = int(input(\"Enter the number of blocks: \"))\n",
    "height=0\n",
    "usedBlocks=0\n",
    "#\n",
    "# Write your code here.\n",
    "#\n",
    "\n",
    "for i in range(blocks):\n",
    "    usedBlocks=i+1\n",
    "    if blocks>=usedBlocks:\n",
    "        print (\"#\"*(i+1))\n",
    "        height+=1\n",
    "        blocks=blocks-usedBlocks\n",
    "    else: break\n",
    "\n",
    "print(\"The height of the pyramid:\", height)"
   ]
  },
  {
   "cell_type": "markdown",
   "metadata": {},
   "source": [
    "### LAB Scenario \n",
    "In 1937, a German mathematician named Lothar Collatz formulated an intriguing hypothesis (it still remains unproven) which can be described in the following way:\n",
    "\n",
    "    take any non-negative and non-zero integer number and name it c0;\n",
    "    if it's even, evaluate a new c0 as c0 ÷ 2;\n",
    "    otherwise, if it's odd, evaluate a new c0 as 3 × c0 + 1;\n",
    "    if c0 ≠ 1, skip to point 2.\n",
    "\n",
    "The hypothesis says that regardless of the initial value of c0, it will always go to 1.\n",
    "\n",
    "Of course, it's an extremely complex task to use a computer in order to prove the hypothesis for any natural number (it may even require artificial intelligence), but you can use Python to check some individual numbers. Maybe you'll even find the one which would disprove the hypothesis.\n",
    "\n",
    "Write a program which reads one natural number and executes the above steps as long as c0 remains different from 1. We also want you to count the steps needed to achieve the goal. Your code should output all the intermediate values of c0, too.\n",
    "\n",
    "Hint: the most important part of the problem is how to transform Collatz's idea into a while loop - this is the key to success.\n",
    "\n",
    "Test your code using the data we've provided."
   ]
  },
  {
   "cell_type": "code",
   "execution_count": null,
   "metadata": {},
   "outputs": [],
   "source": [
    "c0=int(input(\"Take any non negative non zero number: \"))\n",
    "number=0\n",
    "while c0!=1:\n",
    "    if c0%2==0: c0//=2\n",
    "    else: c0=3*c0+1\n",
    "    print(c0)\n",
    "    number+=1\n",
    "\n",
    "print(\"number step:\",number)"
   ]
  },
  {
   "cell_type": "markdown",
   "metadata": {},
   "source": [
    "### Exercise\n",
    "\n",
    "Exercise 1\n",
    "Create a for loop that counts from 0 to 10, and prints odd numbers to the screen. Use the skeleton below:"
   ]
  },
  {
   "cell_type": "code",
   "execution_count": null,
   "metadata": {},
   "outputs": [],
   "source": [
    "for i in range(1, 11):\n",
    "    # line of code\n",
    "        # line of code"
   ]
  },
  {
   "cell_type": "markdown",
   "metadata": {},
   "source": [
    "### Exercise 2\n",
    "\n",
    "Create a while loop that counts from 0 to 10, and prints odd numbers to the screen. Use the skeleton below:"
   ]
  },
  {
   "cell_type": "code",
   "execution_count": null,
   "metadata": {},
   "outputs": [],
   "source": [
    "x = 1\n",
    "while x < 11:\n",
    "    # line of code\n",
    "        # line of code\n",
    "    # line of code"
   ]
  },
  {
   "cell_type": "markdown",
   "metadata": {},
   "source": [
    "### Exercise 3\n",
    "\n",
    "Create a program with a for loop and a break statement. The program should iterate over characters in an email address, exit the loop when it reaches the @ symbol, and print the part before @ on one line. Use the skeleton below:"
   ]
  },
  {
   "cell_type": "code",
   "execution_count": null,
   "metadata": {},
   "outputs": [],
   "source": [
    "for ch in \"john.smith@pythoninstitute.org\":\n",
    "    if ch == \"@\":\n",
    "        # line of code\n",
    "    # line of code"
   ]
  },
  {
   "cell_type": "markdown",
   "metadata": {},
   "source": [
    "### Exercise 4\n",
    "\n",
    "Create a program with a for loop and a continue statement. The program should iterate over a string of digits, replace each 0 with x, and print the modified string to the screen. Use the skeleton below:"
   ]
  },
  {
   "cell_type": "code",
   "execution_count": null,
   "metadata": {},
   "outputs": [],
   "source": [
    "for digit in \"0165031806510\":\n",
    "    if digit == \"0\":\n",
    "        # line of code\n",
    "        # line of code\n",
    "    # line of code"
   ]
  },
  {
   "cell_type": "markdown",
   "metadata": {},
   "source": [
    "### Exercise 5\n",
    "\n",
    "What is the output of the following code?"
   ]
  },
  {
   "cell_type": "code",
   "execution_count": null,
   "metadata": {},
   "outputs": [],
   "source": [
    "n = 3\n",
    "\n",
    "while n > 0:\n",
    "    print(n + 1)\n",
    "    n -= 1\n",
    "else:\n",
    "    print(n)"
   ]
  },
  {
   "cell_type": "markdown",
   "metadata": {},
   "source": [
    "### Exercise 6\n",
    "\n",
    "What is the output of the following code?"
   ]
  },
  {
   "cell_type": "code",
   "execution_count": null,
   "metadata": {},
   "outputs": [],
   "source": [
    "n = range(4)\n",
    "\n",
    "for num in n:\n",
    "    print(num - 1)\n",
    "else:\n",
    "    print(num)"
   ]
  },
  {
   "cell_type": "markdown",
   "metadata": {},
   "source": [
    "### Exercise 7\n",
    "\n",
    "What is the output of the following code?"
   ]
  },
  {
   "cell_type": "code",
   "execution_count": null,
   "metadata": {},
   "outputs": [],
   "source": [
    "for i in range(0, 6, 3):\n",
    "    print(i)"
   ]
  },
  {
   "attachments": {
    "Annotation%202019-06-28%20174030.png": {
     "image/png": "[encoded data removed]"
    }
   },
   "cell_type": "markdown",
   "metadata": {},
   "source": [
    "\n",
    "## 3.1.3 Logika dan Operasi Bit\n",
    "\n",
    "![Annotation%202019-06-28%20174030.png](attachment:Annotation%202019-06-28%20174030.png)"
   ]
  },
  {
   "cell_type": "markdown",
   "metadata": {},
   "source": [
    "\n",
    "    If we have some free time, and the weather is good, we will go for a walk\n",
    "\n",
    "    If you are in the mall or I am in the mall, one of us will buy a gift for Mom.\n",
    "\n"
   ]
  },
  {
   "cell_type": "code",
   "execution_count": null,
   "metadata": {},
   "outputs": [],
   "source": [
    "x = 1\n",
    "y = 0\n",
    "\n",
    "z = ((x == y) and (x == y)) or not(x == y)\n",
    "print(not(z))"
   ]
  },
  {
   "cell_type": "markdown",
   "metadata": {},
   "source": [
    "## 3.1.4 List - collection of data"
   ]
  },
  {
   "cell_type": "code",
   "execution_count": null,
   "metadata": {},
   "outputs": [],
   "source": [
    "var1 = 10\n",
    "var2 = 5\n",
    "var3 = 7\n",
    "var4 = 2\n",
    "var5 = 1\n",
    "\n",
    "# VERSUS #\n",
    "\n",
    "var = [10, 5, 7, 2, 1]\n",
    "print(var)"
   ]
  },
  {
   "cell_type": "code",
   "execution_count": null,
   "metadata": {},
   "outputs": [],
   "source": [
    "#bisa menampung berbagai tipe data\n",
    "var = [\"Digital\", 90 , 1000.50 , \"Talent\"] \n",
    "print(var)"
   ]
  },
  {
   "cell_type": "markdown",
   "metadata": {},
   "source": [
    "### LAB Scenario\n",
    "\n",
    "There once was a hat. The hat contained no rabbit, but a list of five numbers: 1, 2, 3, 4, and 5.\n",
    "\n",
    "Your task is to:\n",
    "\n",
    "    write a line of code that prompts the user to replace the middle number in the list with an integer number entered by the user (step 1)\n",
    "    write a line of code that removes the last element from the list (step 2)\n",
    "    write a line of code that prints the length of the existing list (step 3.)\n",
    "\n",
    "Ready for this challenge?"
   ]
  },
  {
   "cell_type": "code",
   "execution_count": null,
   "metadata": {},
   "outputs": [],
   "source": [
    "hatList = [1, 2, 3, 4, 5]  # This is an existing list of numbers hidden in the hat.\n",
    "\n",
    "# Step 1: write a line of code that prompts the user\n",
    "# to replace the middle number with an integer number entered by the user.\n",
    "n=int(input(\"input ganti ke -3\"))\n",
    "\n",
    "hatList[2]=n\n",
    "\n",
    "# Step 2: write a line of code here that removes the last element from the list.\n",
    "del hatList[-1]\n",
    "\n",
    "# Step 3: write a line of code here that prints the length of the existing list.\n",
    "print(len(hatList))\n",
    "\n",
    "print(hatList)"
   ]
  }
 ],
 "metadata": {
  "kernelspec": {
   "display_name": "Python 3",
   "language": "python",
   "name": "python3"
  },
  "language_info": {
   "codemirror_mode": {
    "name": "ipython",
    "version": 3
   },
   "file_extension": ".py",
   "mimetype": "text/x-python",
   "name": "python",
   "nbconvert_exporter": "python",
   "pygments_lexer": "ipython3",
   "version": "3.7.3"
  }
 },
 "nbformat": 4,
 "nbformat_minor": 2
}
